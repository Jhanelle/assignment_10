{
 "cells": [
  {
   "cell_type": "code",
   "execution_count": 1,
   "metadata": {
    "collapsed": true
   },
   "outputs": [],
   "source": [
    "# import libraries\n",
    "\n",
    "import pandas as pd\n",
    "import matplotlib.pyplot as plt\n",
    "import numpy as np\n",
    "\n",
    "#stats library\n",
    "\n",
    "import statsmodels.api as sm\n",
    "import scipy\n",
    "\n",
    "#T-test is imported to complete the statistical analysis\n",
    "\n",
    "from scipy.stats import ttest_ind\n",
    "\n",
    "from scipy import stats\n",
    "\n",
    "#The function below is used to show the plots within the notebook\n",
    "\n",
    "%matplotlib inline"
   ]
  },
  {
   "cell_type": "code",
   "execution_count": 2,
   "metadata": {
    "collapsed": true
   },
   "outputs": [],
   "source": [
    "#load data into notebook\n",
    "\n",
    "data=pd.read_csv('Testdata.dat', delimiter=' ')"
   ]
  },
  {
   "cell_type": "code",
   "execution_count": 3,
   "metadata": {
    "collapsed": false
   },
   "outputs": [
    {
     "data": {
      "text/html": [
       "<div>\n",
       "<table border=\"1\" class=\"dataframe\">\n",
       "  <thead>\n",
       "    <tr style=\"text-align: right;\">\n",
       "      <th></th>\n",
       "      <th>date</th>\n",
       "      <th>plate</th>\n",
       "      <th>time</th>\n",
       "      <th>strain</th>\n",
       "      <th>frame</th>\n",
       "      <th>ID</th>\n",
       "      <th>persistance</th>\n",
       "      <th>area</th>\n",
       "      <th>speed</th>\n",
       "      <th>angularspeed</th>\n",
       "      <th>...</th>\n",
       "      <th>bias</th>\n",
       "      <th>pathlen</th>\n",
       "      <th>curve</th>\n",
       "      <th>dir</th>\n",
       "      <th>loc_x</th>\n",
       "      <th>loc_y</th>\n",
       "      <th>vel_x</th>\n",
       "      <th>vel_y</th>\n",
       "      <th>orient</th>\n",
       "      <th>crab</th>\n",
       "    </tr>\n",
       "  </thead>\n",
       "  <tbody>\n",
       "    <tr>\n",
       "      <th>0</th>\n",
       "      <td>20120731</td>\n",
       "      <td>20120731_120745</td>\n",
       "      <td>15.039</td>\n",
       "      <td>N2</td>\n",
       "      <td>0</td>\n",
       "      <td>1</td>\n",
       "      <td>234.9</td>\n",
       "      <td>0.102789</td>\n",
       "      <td>NaN</td>\n",
       "      <td>NaN</td>\n",
       "      <td>...</td>\n",
       "      <td>1</td>\n",
       "      <td>0.000</td>\n",
       "      <td>21.0</td>\n",
       "      <td>0</td>\n",
       "      <td>13.3322</td>\n",
       "      <td>36.2338</td>\n",
       "      <td>NaN</td>\n",
       "      <td>NaN</td>\n",
       "      <td>34.2</td>\n",
       "      <td>NaN</td>\n",
       "    </tr>\n",
       "    <tr>\n",
       "      <th>1</th>\n",
       "      <td>20120731</td>\n",
       "      <td>20120731_120745</td>\n",
       "      <td>15.080</td>\n",
       "      <td>N2</td>\n",
       "      <td>1</td>\n",
       "      <td>1</td>\n",
       "      <td>234.9</td>\n",
       "      <td>0.101331</td>\n",
       "      <td>NaN</td>\n",
       "      <td>NaN</td>\n",
       "      <td>...</td>\n",
       "      <td>1</td>\n",
       "      <td>0.002</td>\n",
       "      <td>19.5</td>\n",
       "      <td>0</td>\n",
       "      <td>13.3333</td>\n",
       "      <td>36.2354</td>\n",
       "      <td>NaN</td>\n",
       "      <td>NaN</td>\n",
       "      <td>34.3</td>\n",
       "      <td>NaN</td>\n",
       "    </tr>\n",
       "    <tr>\n",
       "      <th>2</th>\n",
       "      <td>20120731</td>\n",
       "      <td>20120731_120745</td>\n",
       "      <td>15.125</td>\n",
       "      <td>N2</td>\n",
       "      <td>2</td>\n",
       "      <td>1</td>\n",
       "      <td>234.9</td>\n",
       "      <td>0.099873</td>\n",
       "      <td>NaN</td>\n",
       "      <td>NaN</td>\n",
       "      <td>...</td>\n",
       "      <td>1</td>\n",
       "      <td>0.007</td>\n",
       "      <td>20.0</td>\n",
       "      <td>0</td>\n",
       "      <td>13.3378</td>\n",
       "      <td>36.2375</td>\n",
       "      <td>NaN</td>\n",
       "      <td>NaN</td>\n",
       "      <td>34.3</td>\n",
       "      <td>NaN</td>\n",
       "    </tr>\n",
       "    <tr>\n",
       "      <th>3</th>\n",
       "      <td>20120731</td>\n",
       "      <td>20120731_120745</td>\n",
       "      <td>15.160</td>\n",
       "      <td>N2</td>\n",
       "      <td>3</td>\n",
       "      <td>1</td>\n",
       "      <td>234.9</td>\n",
       "      <td>0.100602</td>\n",
       "      <td>NaN</td>\n",
       "      <td>NaN</td>\n",
       "      <td>...</td>\n",
       "      <td>1</td>\n",
       "      <td>0.008</td>\n",
       "      <td>22.3</td>\n",
       "      <td>0</td>\n",
       "      <td>13.3386</td>\n",
       "      <td>36.2387</td>\n",
       "      <td>NaN</td>\n",
       "      <td>NaN</td>\n",
       "      <td>34.3</td>\n",
       "      <td>NaN</td>\n",
       "    </tr>\n",
       "    <tr>\n",
       "      <th>4</th>\n",
       "      <td>20120731</td>\n",
       "      <td>20120731_120745</td>\n",
       "      <td>15.198</td>\n",
       "      <td>N2</td>\n",
       "      <td>4</td>\n",
       "      <td>1</td>\n",
       "      <td>234.9</td>\n",
       "      <td>0.102060</td>\n",
       "      <td>NaN</td>\n",
       "      <td>NaN</td>\n",
       "      <td>...</td>\n",
       "      <td>1</td>\n",
       "      <td>0.011</td>\n",
       "      <td>23.7</td>\n",
       "      <td>0</td>\n",
       "      <td>13.3411</td>\n",
       "      <td>36.2405</td>\n",
       "      <td>NaN</td>\n",
       "      <td>NaN</td>\n",
       "      <td>34.3</td>\n",
       "      <td>NaN</td>\n",
       "    </tr>\n",
       "  </tbody>\n",
       "</table>\n",
       "<p>5 rows × 29 columns</p>\n",
       "</div>"
      ],
      "text/plain": [
       "       date            plate    time strain  frame  ID  persistance      area  \\\n",
       "0  20120731  20120731_120745  15.039     N2      0   1        234.9  0.102789   \n",
       "1  20120731  20120731_120745  15.080     N2      1   1        234.9  0.101331   \n",
       "2  20120731  20120731_120745  15.125     N2      2   1        234.9  0.099873   \n",
       "3  20120731  20120731_120745  15.160     N2      3   1        234.9  0.100602   \n",
       "4  20120731  20120731_120745  15.198     N2      4   1        234.9  0.102060   \n",
       "\n",
       "   speed  angularspeed  ...   bias  pathlen  curve  dir    loc_x    loc_y  \\\n",
       "0    NaN           NaN  ...      1    0.000   21.0    0  13.3322  36.2338   \n",
       "1    NaN           NaN  ...      1    0.002   19.5    0  13.3333  36.2354   \n",
       "2    NaN           NaN  ...      1    0.007   20.0    0  13.3378  36.2375   \n",
       "3    NaN           NaN  ...      1    0.008   22.3    0  13.3386  36.2387   \n",
       "4    NaN           NaN  ...      1    0.011   23.7    0  13.3411  36.2405   \n",
       "\n",
       "   vel_x  vel_y  orient  crab  \n",
       "0    NaN    NaN    34.2   NaN  \n",
       "1    NaN    NaN    34.3   NaN  \n",
       "2    NaN    NaN    34.3   NaN  \n",
       "3    NaN    NaN    34.3   NaN  \n",
       "4    NaN    NaN    34.3   NaN  \n",
       "\n",
       "[5 rows x 29 columns]"
      ]
     },
     "execution_count": 3,
     "metadata": {},
     "output_type": "execute_result"
    }
   ],
   "source": [
    "#print only the head of the data\n",
    "data.head()"
   ]
  },
  {
   "cell_type": "code",
   "execution_count": 4,
   "metadata": {
    "collapsed": true
   },
   "outputs": [],
   "source": [
    "# Here we extract only two columns from the data as these are the main variables for the statistcal analysis\n",
    "\n",
    "strain_df=data[['strain','speed']]"
   ]
  },
  {
   "cell_type": "code",
   "execution_count": 5,
   "metadata": {
    "collapsed": false
   },
   "outputs": [
    {
     "data": {
      "text/html": [
       "<div>\n",
       "<table border=\"1\" class=\"dataframe\">\n",
       "  <thead>\n",
       "    <tr style=\"text-align: right;\">\n",
       "      <th></th>\n",
       "      <th>strain</th>\n",
       "      <th>speed</th>\n",
       "    </tr>\n",
       "  </thead>\n",
       "  <tbody>\n",
       "    <tr>\n",
       "      <th>0</th>\n",
       "      <td>N2</td>\n",
       "      <td>NaN</td>\n",
       "    </tr>\n",
       "    <tr>\n",
       "      <th>1</th>\n",
       "      <td>N2</td>\n",
       "      <td>NaN</td>\n",
       "    </tr>\n",
       "    <tr>\n",
       "      <th>2</th>\n",
       "      <td>N2</td>\n",
       "      <td>NaN</td>\n",
       "    </tr>\n",
       "    <tr>\n",
       "      <th>3</th>\n",
       "      <td>N2</td>\n",
       "      <td>NaN</td>\n",
       "    </tr>\n",
       "    <tr>\n",
       "      <th>4</th>\n",
       "      <td>N2</td>\n",
       "      <td>NaN</td>\n",
       "    </tr>\n",
       "  </tbody>\n",
       "</table>\n",
       "</div>"
      ],
      "text/plain": [
       "  strain  speed\n",
       "0     N2    NaN\n",
       "1     N2    NaN\n",
       "2     N2    NaN\n",
       "3     N2    NaN\n",
       "4     N2    NaN"
      ]
     },
     "execution_count": 5,
     "metadata": {},
     "output_type": "execute_result"
    }
   ],
   "source": [
    "#Print the head of this data\n",
    "\n",
    "strain_df.head()"
   ]
  },
  {
   "cell_type": "code",
   "execution_count": 6,
   "metadata": {
    "collapsed": true
   },
   "outputs": [],
   "source": [
    "# Eliminate NaN from the dataset \n",
    "\n",
    "strain_df=strain_df.dropna()"
   ]
  },
  {
   "cell_type": "code",
   "execution_count": 7,
   "metadata": {
    "collapsed": false
   },
   "outputs": [
    {
     "data": {
      "text/html": [
       "<div>\n",
       "<table border=\"1\" class=\"dataframe\">\n",
       "  <thead>\n",
       "    <tr style=\"text-align: right;\">\n",
       "      <th></th>\n",
       "      <th>strain</th>\n",
       "      <th>speed</th>\n",
       "    </tr>\n",
       "  </thead>\n",
       "  <tbody>\n",
       "    <tr>\n",
       "      <th>7</th>\n",
       "      <td>N2</td>\n",
       "      <td>0.0698</td>\n",
       "    </tr>\n",
       "    <tr>\n",
       "      <th>8</th>\n",
       "      <td>N2</td>\n",
       "      <td>0.0668</td>\n",
       "    </tr>\n",
       "    <tr>\n",
       "      <th>9</th>\n",
       "      <td>N2</td>\n",
       "      <td>0.0720</td>\n",
       "    </tr>\n",
       "    <tr>\n",
       "      <th>10</th>\n",
       "      <td>N2</td>\n",
       "      <td>0.0783</td>\n",
       "    </tr>\n",
       "    <tr>\n",
       "      <th>11</th>\n",
       "      <td>N2</td>\n",
       "      <td>0.0793</td>\n",
       "    </tr>\n",
       "  </tbody>\n",
       "</table>\n",
       "</div>"
      ],
      "text/plain": [
       "   strain   speed\n",
       "7      N2  0.0698\n",
       "8      N2  0.0668\n",
       "9      N2  0.0720\n",
       "10     N2  0.0783\n",
       "11     N2  0.0793"
      ]
     },
     "execution_count": 7,
     "metadata": {},
     "output_type": "execute_result"
    }
   ],
   "source": [
    "#Print the head of this dataset \n",
    "strain_df.head()"
   ]
  },
  {
   "cell_type": "code",
   "execution_count": 8,
   "metadata": {
    "collapsed": true
   },
   "outputs": [],
   "source": [
    "#Group the data so that we can extract only MX1027 from the dataset\n",
    "\n",
    "MX1027=strain_df.groupby('strain').get_group('MX1027')"
   ]
  },
  {
   "cell_type": "code",
   "execution_count": 9,
   "metadata": {
    "collapsed": false
   },
   "outputs": [
    {
     "data": {
      "text/html": [
       "<div>\n",
       "<table border=\"1\" class=\"dataframe\">\n",
       "  <thead>\n",
       "    <tr style=\"text-align: right;\">\n",
       "      <th></th>\n",
       "      <th>strain</th>\n",
       "      <th>speed</th>\n",
       "    </tr>\n",
       "  </thead>\n",
       "  <tbody>\n",
       "    <tr>\n",
       "      <th>9999</th>\n",
       "      <td>MX1027</td>\n",
       "      <td>0.0665</td>\n",
       "    </tr>\n",
       "    <tr>\n",
       "      <th>10000</th>\n",
       "      <td>MX1027</td>\n",
       "      <td>0.0621</td>\n",
       "    </tr>\n",
       "    <tr>\n",
       "      <th>10001</th>\n",
       "      <td>MX1027</td>\n",
       "      <td>0.0614</td>\n",
       "    </tr>\n",
       "    <tr>\n",
       "      <th>10002</th>\n",
       "      <td>MX1027</td>\n",
       "      <td>0.0577</td>\n",
       "    </tr>\n",
       "    <tr>\n",
       "      <th>10003</th>\n",
       "      <td>MX1027</td>\n",
       "      <td>0.0545</td>\n",
       "    </tr>\n",
       "  </tbody>\n",
       "</table>\n",
       "</div>"
      ],
      "text/plain": [
       "       strain   speed\n",
       "9999   MX1027  0.0665\n",
       "10000  MX1027  0.0621\n",
       "10001  MX1027  0.0614\n",
       "10002  MX1027  0.0577\n",
       "10003  MX1027  0.0545"
      ]
     },
     "execution_count": 9,
     "metadata": {},
     "output_type": "execute_result"
    }
   ],
   "source": [
    "#Print the head of this dataset\n",
    "\n",
    "MX1027.head()"
   ]
  },
  {
   "cell_type": "code",
   "execution_count": 10,
   "metadata": {
    "collapsed": true
   },
   "outputs": [],
   "source": [
    "#Group the data to only extract N2 values from the dataset\n",
    "N2=strain_df.groupby('strain').get_group('N2')"
   ]
  },
  {
   "cell_type": "code",
   "execution_count": 11,
   "metadata": {
    "collapsed": false
   },
   "outputs": [
    {
     "data": {
      "text/html": [
       "<div>\n",
       "<table border=\"1\" class=\"dataframe\">\n",
       "  <thead>\n",
       "    <tr style=\"text-align: right;\">\n",
       "      <th></th>\n",
       "      <th>strain</th>\n",
       "      <th>speed</th>\n",
       "    </tr>\n",
       "  </thead>\n",
       "  <tbody>\n",
       "    <tr>\n",
       "      <th>7</th>\n",
       "      <td>N2</td>\n",
       "      <td>0.0698</td>\n",
       "    </tr>\n",
       "    <tr>\n",
       "      <th>8</th>\n",
       "      <td>N2</td>\n",
       "      <td>0.0668</td>\n",
       "    </tr>\n",
       "    <tr>\n",
       "      <th>9</th>\n",
       "      <td>N2</td>\n",
       "      <td>0.0720</td>\n",
       "    </tr>\n",
       "    <tr>\n",
       "      <th>10</th>\n",
       "      <td>N2</td>\n",
       "      <td>0.0783</td>\n",
       "    </tr>\n",
       "    <tr>\n",
       "      <th>11</th>\n",
       "      <td>N2</td>\n",
       "      <td>0.0793</td>\n",
       "    </tr>\n",
       "  </tbody>\n",
       "</table>\n",
       "</div>"
      ],
      "text/plain": [
       "   strain   speed\n",
       "7      N2  0.0698\n",
       "8      N2  0.0668\n",
       "9      N2  0.0720\n",
       "10     N2  0.0783\n",
       "11     N2  0.0793"
      ]
     },
     "execution_count": 11,
     "metadata": {},
     "output_type": "execute_result"
    }
   ],
   "source": [
    "#Print the head of this dataset\n",
    "N2.head()"
   ]
  },
  {
   "cell_type": "code",
   "execution_count": 266,
   "metadata": {
    "collapsed": false
   },
   "outputs": [
    {
     "data": {
      "text/plain": [
       "speed    0.127953\n",
       "dtype: float64"
      ]
     },
     "execution_count": 266,
     "metadata": {},
     "output_type": "execute_result"
    }
   ],
   "source": [
    "##The mean is calculated to check the values in the test function\n",
    "\n",
    "MX1027.mean()"
   ]
  },
  {
   "cell_type": "code",
   "execution_count": 267,
   "metadata": {
    "collapsed": false
   },
   "outputs": [
    {
     "data": {
      "text/plain": [
       "speed    0.084662\n",
       "dtype: float64"
      ]
     },
     "execution_count": 267,
     "metadata": {},
     "output_type": "execute_result"
    }
   ],
   "source": [
    "#The mean is  calculated to check the values in the test function\n",
    "\n",
    "N2.mean()"
   ]
  },
  {
   "cell_type": "code",
   "execution_count": 260,
   "metadata": {
    "collapsed": true
   },
   "outputs": [],
   "source": [
    "#Function created to calculate the mean of the data\n",
    "\n",
    "def mean(strain_df, speed):\n",
    "    '''The input of the function is the raw values of the strain's speed. This function calculates the\n",
    "    the mean of the speed using the sample size and the sum of the speed. The output of the \n",
    "    function is the mean of the speed for the strain.'''\n",
    "    n= len(strain_df)\n",
    "    mean =(sum(strain_df.speed))/n\n",
    "    return mean\n",
    "    "
   ]
  },
  {
   "cell_type": "code",
   "execution_count": 264,
   "metadata": {
    "collapsed": false
   },
   "outputs": [],
   "source": [
    "#Create test functions of the mean of N2\n",
    "\n",
    "def test_mean1():\n",
    "    \"\"\"This function calls the mean function and compares it a known mean, this mean is \n",
    "    labelled exp. The mean in focus for this function is for the N2 strain.\"\"\"\n",
    "    obs = mean(N2, N2.speed)\n",
    "    exp = float(0.0846619255469)\n",
    "    print (obs)\n",
    "    assert obs == exp, ' The mean of N2 should be 0.0846619255469'\n",
    "    \n",
    "#Create test function for the mean of MX1027\n",
    "\n",
    "def test_mean2():\n",
    "    \"\"\"This function calls the mean function and compares it a known mean, this mean is \n",
    "    labelled exp. The mean in focus for this function is for the MX1027 strain.\"\"\"\n",
    "    obs =  mean(MX1027, MX1027.speed)\n",
    "    exp = float(0.127953)\n",
    "    print (obs)\n",
    "    assert obs == exp, ' The mean of MX1027 should be 0.127953'"
   ]
  },
  {
   "cell_type": "code",
   "execution_count": 263,
   "metadata": {
    "collapsed": false
   },
   "outputs": [
    {
     "name": "stdout",
     "output_type": "stream",
     "text": [
      "0.0846619255469\n"
     ]
    },
    {
     "ename": "AssertionError",
     "evalue": " The mean of N2 should be 0.0846619255469",
     "output_type": "error",
     "traceback": [
      "\u001b[1;31m---------------------------------------------------------------------------\u001b[0m",
      "\u001b[1;31mAssertionError\u001b[0m                            Traceback (most recent call last)",
      "\u001b[1;32m<ipython-input-263-23b9617bec6f>\u001b[0m in \u001b[0;36m<module>\u001b[1;34m()\u001b[0m\n\u001b[0;32m      1\u001b[0m \u001b[1;31m# Here we test the first and the second mean\u001b[0m\u001b[1;33m\u001b[0m\u001b[1;33m\u001b[0m\u001b[0m\n\u001b[1;32m----> 2\u001b[1;33m \u001b[0mtest_mean1\u001b[0m\u001b[1;33m(\u001b[0m\u001b[1;33m)\u001b[0m\u001b[1;33m\u001b[0m\u001b[0m\n\u001b[0m\u001b[0;32m      3\u001b[0m \u001b[0mtest_mean2\u001b[0m\u001b[1;33m(\u001b[0m\u001b[1;33m)\u001b[0m\u001b[1;33m\u001b[0m\u001b[0m\n",
      "\u001b[1;32m<ipython-input-261-1e0133a4b1f4>\u001b[0m in \u001b[0;36mtest_mean1\u001b[1;34m()\u001b[0m\n\u001b[0;32m      7\u001b[0m     \u001b[0mexp\u001b[0m \u001b[1;33m=\u001b[0m \u001b[0mfloat\u001b[0m\u001b[1;33m(\u001b[0m\u001b[1;36m0.0846619255469\u001b[0m\u001b[1;33m)\u001b[0m\u001b[1;33m\u001b[0m\u001b[0m\n\u001b[0;32m      8\u001b[0m     \u001b[0mprint\u001b[0m \u001b[1;33m(\u001b[0m\u001b[0mobs\u001b[0m\u001b[1;33m)\u001b[0m\u001b[1;33m\u001b[0m\u001b[0m\n\u001b[1;32m----> 9\u001b[1;33m     \u001b[1;32massert\u001b[0m \u001b[0mobs\u001b[0m \u001b[1;33m==\u001b[0m \u001b[0mexp\u001b[0m\u001b[1;33m,\u001b[0m \u001b[1;34m' The mean of N2 should be 0.0846619255469'\u001b[0m\u001b[1;33m\u001b[0m\u001b[0m\n\u001b[0m\u001b[0;32m     10\u001b[0m \u001b[1;33m\u001b[0m\u001b[0m\n\u001b[0;32m     11\u001b[0m \u001b[1;31m#Create test function for the mean of MX1027\u001b[0m\u001b[1;33m\u001b[0m\u001b[1;33m\u001b[0m\u001b[0m\n",
      "\u001b[1;31mAssertionError\u001b[0m:  The mean of N2 should be 0.0846619255469"
     ]
    }
   ],
   "source": [
    "# Here we test the first and the second mean\n",
    "test_mean1()\n",
    "test_mean2()\n"
   ]
  },
  {
   "cell_type": "markdown",
   "metadata": {},
   "source": [
    "### Importance of the test Function\n",
    "\n",
    "This function is useful for the research, as the mean can be used as basic statistics that clear shows the difference between the strains. Additionally, this mean is necessary as it is needed to calculate the t-test for the strains. "
   ]
  },
  {
   "cell_type": "code",
   "execution_count": null,
   "metadata": {
    "collapsed": true
   },
   "outputs": [],
   "source": []
  },
  {
   "cell_type": "code",
   "execution_count": null,
   "metadata": {
    "collapsed": true
   },
   "outputs": [],
   "source": []
  }
 ],
 "metadata": {
  "kernelspec": {
   "display_name": "Python 3",
   "language": "python",
   "name": "python3"
  },
  "language_info": {
   "codemirror_mode": {
    "name": "ipython",
    "version": 3
   },
   "file_extension": ".py",
   "mimetype": "text/x-python",
   "name": "python",
   "nbconvert_exporter": "python",
   "pygments_lexer": "ipython3",
   "version": "3.4.3"
  }
 },
 "nbformat": 4,
 "nbformat_minor": 0
}
